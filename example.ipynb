{
 "cells": [
  {
   "cell_type": "markdown",
   "metadata": {
    "collapsed": true,
    "pycharm": {
     "name": "#%% md\n"
    }
   },
   "source": [
    "# Example - Recognising Hand Written 0s and 1s\n",
    "\n",
    "Download MNIST dataset from [http://yann.lecun.com/exdb/mnist/](http://yann.lecun.com/exdb/mnist/) before proceeding"
   ]
  },
  {
   "cell_type": "code",
   "execution_count": null,
   "outputs": [],
   "source": [
    "import numpy as np\n",
    "from matplotlib import pyplot as plt\n",
    "import mnist\n",
    "from nn.loss import BinaryCrossEntropy\n",
    "from nn.layer import Dense\n",
    "from nn.model import MLP\n",
    "from nn.activation import ReLU, Sigmoid\n",
    "from nn.callback import CSVLogger"
   ],
   "metadata": {
    "collapsed": false,
    "pycharm": {
     "name": "#%%\n"
    }
   }
  },
  {
   "cell_type": "markdown",
   "source": [
    "## Prepare data\n",
    "\n",
    "The `mnist` module will process the downloaded data to give us the train and test sets\n",
    "\n",
    "Only examples with labels 0 and 1 are selected to make this a binary classification problem"
   ],
   "metadata": {
    "collapsed": false,
    "pycharm": {
     "name": "#%% md\n"
    }
   }
  },
  {
   "cell_type": "code",
   "execution_count": null,
   "outputs": [],
   "source": [
    "x_train, y_train, x_test, y_test = mnist.create_dataset(data_dir=\"data\")"
   ],
   "metadata": {
    "collapsed": false,
    "pycharm": {
     "name": "#%%\n"
    }
   }
  },
  {
   "cell_type": "markdown",
   "source": [
    "## Create MLP model\n",
    "\n",
    "The `layers` argument in MLP takes a Tuple of Tuples where each Tuple must have a Layer and Activation pair"
   ],
   "metadata": {
    "collapsed": false,
    "pycharm": {
     "name": "#%% md\n"
    }
   }
  },
  {
   "cell_type": "code",
   "execution_count": null,
   "outputs": [],
   "source": [
    "model = MLP(\n",
    "    layers=(\n",
    "        (Dense(64), ReLU()),\n",
    "        (Dense(64), ReLU()),\n",
    "        (Dense(1), Sigmoid())\n",
    "    ),\n",
    "    loss=BinaryCrossEntropy(),\n",
    "    lr=1.\n",
    ")"
   ],
   "metadata": {
    "collapsed": false,
    "pycharm": {
     "name": "#%%\n"
    }
   }
  },
  {
   "cell_type": "markdown",
   "source": [
    "## Train the model"
   ],
   "metadata": {
    "collapsed": false,
    "pycharm": {
     "name": "#%% md\n"
    }
   }
  },
  {
   "cell_type": "code",
   "execution_count": null,
   "outputs": [],
   "source": [
    "model.fit(\n",
    "    x_train, y_train,\n",
    "    epochs=50, callbacks=(\n",
    "        CSVLogger(file_path=\"logs.csv\", overwrite=True),\n",
    "    ),\n",
    "    verbose=False\n",
    ")"
   ],
   "metadata": {
    "collapsed": false,
    "pycharm": {
     "name": "#%%\n"
    }
   }
  },
  {
   "cell_type": "markdown",
   "source": [
    "## Plot training loss"
   ],
   "metadata": {
    "collapsed": false
   }
  },
  {
   "cell_type": "code",
   "execution_count": null,
   "outputs": [],
   "source": [
    "with open(\"logs.csv\", \"r\") as f:\n",
    "    data = f.read().splitlines()[1:]\n",
    "\n",
    "epochs = []\n",
    "losses = []\n",
    "\n",
    "for row in data:\n",
    "    epoch, loss = row.split(\",\")\n",
    "    epoch = int(epoch)\n",
    "    loss = float(loss)\n",
    "    epochs.append(epoch)\n",
    "    losses.append(loss)\n",
    "\n",
    "plt.plot(epochs, losses)\n",
    "plt.show()\n"
   ],
   "metadata": {
    "collapsed": false,
    "pycharm": {
     "name": "#%%\n"
    }
   }
  },
  {
   "cell_type": "markdown",
   "source": [
    "## Evaluation and prediction"
   ],
   "metadata": {
    "collapsed": false
   }
  },
  {
   "cell_type": "code",
   "execution_count": null,
   "outputs": [],
   "source": [
    "test_loss = model.evaluate(x_test, y_test)\n",
    "print(f\"Test loss: {test_loss}\")"
   ],
   "metadata": {
    "collapsed": false,
    "pycharm": {
     "name": "#%%\n"
    }
   }
  },
  {
   "cell_type": "code",
   "execution_count": null,
   "outputs": [],
   "source": [
    "predictions = model.predict(x_test)\n",
    "\n",
    "print(\"First 5 predictions\")\n",
    "print(predictions[..., :5])\n",
    "print(y_test[..., :5])"
   ],
   "metadata": {
    "collapsed": false,
    "pycharm": {
     "name": "#%%\n"
    }
   }
  },
  {
   "cell_type": "code",
   "execution_count": null,
   "outputs": [],
   "source": [
    "accuracy = np.mean((predictions == y_test))\n",
    "\n",
    "print(f\"Test accuracy: {accuracy * 100: .2f}%\")"
   ],
   "metadata": {
    "collapsed": false,
    "pycharm": {
     "name": "#%%\n"
    }
   }
  },
  {
   "cell_type": "code",
   "execution_count": null,
   "outputs": [],
   "source": [],
   "metadata": {
    "collapsed": false,
    "pycharm": {
     "name": "#%%\n"
    }
   }
  }
 ],
 "metadata": {
  "kernelspec": {
   "display_name": "Python 3",
   "language": "python",
   "name": "python3"
  },
  "language_info": {
   "codemirror_mode": {
    "name": "ipython",
    "version": 2
   },
   "file_extension": ".py",
   "mimetype": "text/x-python",
   "name": "python",
   "nbconvert_exporter": "python",
   "pygments_lexer": "ipython2",
   "version": "2.7.6"
  }
 },
 "nbformat": 4,
 "nbformat_minor": 0
}