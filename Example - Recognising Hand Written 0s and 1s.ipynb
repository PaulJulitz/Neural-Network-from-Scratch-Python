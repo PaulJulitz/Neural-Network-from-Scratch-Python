{
 "cells": [
  {
   "cell_type": "markdown",
   "metadata": {},
   "source": [
    "## Helper Functions and Libraries"
   ]
  },
  {
   "cell_type": "code",
   "execution_count": 1,
   "metadata": {},
   "outputs": [],
   "source": [
    "import numpy as np\n",
    "import matplotlib.pyplot as plt\n",
    "\n",
    "def relu(Z):\n",
    "    R = np.maximum(0, Z)\n",
    "    return R\n",
    "\n",
    "def sigmoid(Z):\n",
    "    S = 1 / (1 + np.exp(-1 * Z))\n",
    "    return S\n",
    "\n",
    "def relu_derivative(Z):\n",
    "    Z[Z >= 0] = 1\n",
    "    Z[Z < 0]  = 0\n",
    "    return Z\n",
    "\n",
    "def sigmoid_derivative(Z):\n",
    "    SD = sigmoid(Z) * (1 - sigmoid(Z))\n",
    "    return SD"
   ]
  },
  {
   "cell_type": "markdown",
   "metadata": {},
   "source": [
    "## NN Model"
   ]
  },
  {
   "cell_type": "code",
   "execution_count": 2,
   "metadata": {},
   "outputs": [],
   "source": [
    "class model():\n",
    "    \n",
    "    layers = []\n",
    "    L = 0\n",
    "    W = {}\n",
    "    b = {}\n",
    "    A = {}\n",
    "    Z = {}\n",
    "    dA = {}\n",
    "    dZ = {}\n",
    "    dW = {}\n",
    "    db = {}\n",
    "    cost = 0.\n",
    "    m = 0\n",
    "    lam = 0\n",
    "    cost_history = []\n",
    "    acc_history = []\n",
    "    alpha_history = []\n",
    "    alpha = 0.\n",
    "    iterations = 0\n",
    "    \n",
    "    def __init__(self):\n",
    "        \n",
    "        self.layers = []\n",
    "        self.L = 0\n",
    "        self.W = {}\n",
    "        self.b = {}\n",
    "        self.A = {}\n",
    "        self.Z = {}\n",
    "        self.dA = {}\n",
    "        self.dZ = {}\n",
    "        self.dW = {}\n",
    "        self.db = {}\n",
    "        self.cost = 0.\n",
    "        self.m = 0\n",
    "        self.lam = 0\n",
    "        self.cost_history = []\n",
    "        self.acc_history = []\n",
    "        self.alpha_history = []\n",
    "        self.alpha = 0.\n",
    "        self.iterations = 0\n",
    "\n",
    "        return\n",
    "    \n",
    "    def add_layers(self, list_of_layers):\n",
    "        \n",
    "        self.layers = list_of_layers\n",
    "        self.L = len(self.layers) - 1 # Number of layers excluding the input feature layer\n",
    "        \n",
    "        return\n",
    "    \n",
    "    def init_params(self):\n",
    "        \n",
    "        for i in range(1, self.L + 1):\n",
    "            self.W[str(i)] = np.random.randn(self.layers[i], self.layers[i - 1]) * np.sqrt(2. / self.layers[i - 1])\n",
    "            self.b[str(i)] = np.zeros((self.layers[i], 1))\n",
    "            \n",
    "        return\n",
    "    \n",
    "    def forward_prop(self, X):\n",
    "        \n",
    "        self.A['0'] = X\n",
    "        \n",
    "        for i in range(1, self.L + 1):\n",
    "            self.Z[str(i)] = np.dot(self.W[str(i)], self.A[str(i - 1)]) + self.b[str(i)]\n",
    "            if i == self.L:\n",
    "                # Output layer, Sigmoid activation\n",
    "                self.A[str(i)] = sigmoid(self.Z[str(i)])\n",
    "            else:\n",
    "                # Hidden layer, Relu activataion\n",
    "                self.A[str(i)] = relu(self.Z[str(i)])\n",
    "        \n",
    "        return\n",
    "    \n",
    "    def compute_cost(self, Y):\n",
    "        \n",
    "        self.cost = -1 * np.sum(np.multiply(Y, np.log(self.A[str(self.L)])) + \n",
    "                           np.multiply(1 - Y, np.log(1 - self.A[str(self.L)]))) / self.m \n",
    "        \n",
    "        if self.lam != 0:\n",
    "            reg = (self.lam / (2 * self.m))\n",
    "            for i in range(1, self.L + 1):\n",
    "                reg += np.sum(np.dot(self.W[str(i)], self.W[str(i)].T))\n",
    "            self.cost += reg\n",
    "            \n",
    "        self.cost_history.append(self.cost)\n",
    "        \n",
    "        return\n",
    "    \n",
    "    def backward_prop(self, Y):\n",
    "        \n",
    "        # We need dA[str(L)] to start the backward prop computation\n",
    "        self.dA[str(self.L)] = -1 * (np.divide(Y, self.A[str(self.L)]) - np.divide(1 - Y, 1 - self.A[str(self.L)]))\n",
    "        self.dZ[str(self.L)] = np.multiply(self.dA[str(self.L)], sigmoid_derivative(self.Z[str(self.L)]))\n",
    "        self.dW[str(self.L)] = np.dot(self.dZ[str(self.L)], self.A[str(self.L - 1)].T) / self.m + (self.lam/self.m) * self.W[str(self.L)]\n",
    "        self.db[str(self.L)] = np.sum(self.dZ[str(self.L)], axis = 1, keepdims = True) / self.m\n",
    "        self.dA[str(self.L - 1)] = np.dot(self.W[str(self.L)].T, self.dZ[str(self.L)])\n",
    "            \n",
    "        for i in reversed(range(1, self.L)):\n",
    "\n",
    "            self.dZ[str(i)] = np.multiply(self.dA[str(i)], relu_derivative(self.Z[str(i)]))\n",
    "            self.dW[str(i)] = np.dot(self.dZ[str(i)], self.A[str(i - 1)].T) / self.m + (self.lam/self.m) * self.W[str(i)]\n",
    "            self.db[str(i)] = np.sum(self.dZ[str(i)], axis = 1, keepdims = True) / self.m\n",
    "            self.dA[str(i - 1)] = np.dot(self.W[str(i)].T, self.dZ[str(i)])\n",
    "        \n",
    "        return\n",
    "    \n",
    "    def update_params(self):\n",
    "        \n",
    "        for i in range(1, self.L + 1):\n",
    "            self.W[str(i)] = self.W[str(i)] - self.alpha * self.dW[str(i)]\n",
    "            self.b[str(i)] = self.b[str(i)] - self.alpha * self.db[str(i)]\n",
    "        \n",
    "        return\n",
    "    \n",
    "    def train(self, X, Y, iterations = 10, \n",
    "        alpha = 0.001, decay = True, decay_iter = 5, decay_rate = 0.9, stop_decay_counter = 100,\n",
    "        verbose = True, lam = 0):\n",
    "        \n",
    "        self.m = Y.shape[1]\n",
    "        self.alpha = alpha\n",
    "        self.iterations = iterations\n",
    "        self.lam = lam\n",
    "        \n",
    "        # initialize parameters\n",
    "        self.init_params()\n",
    "\n",
    "        for i in range(iterations):\n",
    "            # forward prop\n",
    "            self.forward_prop(X)\n",
    "            # compute cost\n",
    "            self.compute_cost(Y)\n",
    "            # backward prop\n",
    "            self.backward_prop(Y)\n",
    "            # update params\n",
    "            self.update_params()\n",
    "            # evaluate\n",
    "            self.acc_history.append(self.evaluate(X, Y, in_training = True))\n",
    "            # save alpha\n",
    "            self.alpha_history.append(self.alpha)\n",
    "            # learning rate decay\n",
    "            if decay and stop_decay_counter > 0 and i % decay_iter == 0:\n",
    "                self.alpha = decay_rate * self.alpha\n",
    "                stop_decay_counter -= 1\n",
    "            # display cost per iteration\n",
    "            if verbose:\n",
    "                print('Cost after {} iterations: {}'.format(i, self.cost))\n",
    "        \n",
    "        return\n",
    "    \n",
    "    def predict(self, X, in_training = False):\n",
    "        \n",
    "        if in_training == False:\n",
    "            self.forward_prop(X)\n",
    "            \n",
    "        preds = self.A[str(self.L)] >= 0.5\n",
    "        preds = np.squeeze(preds)\n",
    "        \n",
    "        return preds\n",
    "        \n",
    "    def evaluate(self, X, Y, in_training = False):\n",
    "        \n",
    "        examples = X.shape[1]\n",
    "        \n",
    "        pred = self.predict(X, in_training = in_training)\n",
    "        pred = pred.reshape(1, examples)\n",
    "        diff = np.sum(abs(pred - Y))\n",
    "        acc = (examples - np.sum(diff)) / examples\n",
    "        \n",
    "        return acc\n",
    "    \n",
    "    def plot_cost(self):\n",
    "        \n",
    "        plt.plot(range(self.iterations), self.cost_history, color = 'b')\n",
    "        plt.show()\n",
    "        \n",
    "        return\n",
    "    \n",
    "    def plot_acc(self):\n",
    "        \n",
    "        plt.plot(range(self.iterations), self.acc_history, color = 'r')\n",
    "        plt.show()\n",
    "        \n",
    "        return\n",
    "    \n",
    "    def plot_alpha(self):\n",
    "        \n",
    "        plt.plot(range(self.iterations), self.alpha_history, color = 'g')\n",
    "        plt.show()\n",
    "        \n",
    "        return"
   ]
  },
  {
   "cell_type": "markdown",
   "metadata": {},
   "source": [
    "## MNIST Dataset\n",
    "Let's make the NN recognise just two digits: 0 and 1"
   ]
  },
  {
   "cell_type": "code",
   "execution_count": 3,
   "metadata": {},
   "outputs": [],
   "source": [
    "from tensorflow.python.keras.datasets import mnist\n",
    "\n",
    "(X_train, Y_train), (X_test, Y_test) = mnist.load_data()\n",
    "\n",
    "X_train = X_train / 255.\n",
    "X_test = X_test / 255.\n",
    "\n",
    "training_indices_for_0 = Y_train == 0\n",
    "length = len(Y_train[Y_train == 0])\n",
    "\n",
    "X_train_0 = np.zeros((length, 28, 28))\n",
    "Y_train_0 = np.zeros((length, 1))\n",
    "\n",
    "count = 0\n",
    "\n",
    "for i in range(training_indices_for_0.shape[0]):\n",
    "    if training_indices_for_0[i]:\n",
    "        X_train_0[count] = X_train[i]\n",
    "        Y_train_0[count] = Y_train[i]\n",
    "        count += 1"
   ]
  },
  {
   "cell_type": "code",
   "execution_count": 4,
   "metadata": {},
   "outputs": [
    {
     "data": {
      "text/plain": [
       "<matplotlib.image.AxesImage at 0xb3ee1de48>"
      ]
     },
     "execution_count": 4,
     "metadata": {},
     "output_type": "execute_result"
    },
    {
     "data": {
      "image/png": "[encoded data removed]",
      "text/plain": [
       "<Figure size 432x288 with 1 Axes>"
      ]
     },
     "metadata": {
      "needs_background": "light"
     },
     "output_type": "display_data"
    }
   ],
   "source": [
    "plt.imshow(X_train_0[0])"
   ]
  },
  {
   "cell_type": "code",
   "execution_count": 5,
   "metadata": {},
   "outputs": [],
   "source": [
    "training_indices_for_1 = Y_train == 1\n",
    "length = len(Y_train[Y_train == 1])\n",
    "\n",
    "X_train_1 = np.zeros((length, 28, 28))\n",
    "Y_train_1 = np.zeros((length, 1))\n",
    "\n",
    "count = 0\n",
    "\n",
    "for i in range(training_indices_for_1.shape[0]):\n",
    "    if training_indices_for_1[i]:\n",
    "        X_train_1[count] = X_train[i]\n",
    "        Y_train_1[count] = Y_train[i]\n",
    "        count += 1"
   ]
  },
  {
   "cell_type": "code",
   "execution_count": 6,
   "metadata": {},
   "outputs": [
    {
     "data": {
      "text/plain": [
       "<matplotlib.image.AxesImage at 0xb59c51be0>"
      ]
     },
     "execution_count": 6,
     "metadata": {},
     "output_type": "execute_result"
    },
    {
     "data": {
      "image/png": "[encoded data removed]",
      "text/plain": [
       "<Figure size 432x288 with 1 Axes>"
      ]
     },
     "metadata": {
      "needs_background": "light"
     },
     "output_type": "display_data"
    }
   ],
   "source": [
    "plt.imshow(X_train_1[0])"
   ]
  },
  {
   "cell_type": "code",
   "execution_count": 7,
   "metadata": {},
   "outputs": [],
   "source": [
    "# Combine and shuffle the two\n",
    "X = np.vstack((X_train_0, X_train_1))\n",
    "Y = np.vstack((Y_train_0, Y_train_1))"
   ]
  },
  {
   "cell_type": "code",
   "execution_count": 8,
   "metadata": {},
   "outputs": [],
   "source": [
    "from sklearn.model_selection import train_test_split\n",
    "\n",
    "X_train, X_test, y_train, y_test = train_test_split(X, Y, test_size = 0.2, random_state = 42, shuffle = True)\n",
    "X_test_original = X_test"
   ]
  },
  {
   "cell_type": "code",
   "execution_count": 9,
   "metadata": {},
   "outputs": [
    {
     "data": {
      "image/png": "[encoded data removed]",
      "text/plain": [
       "<Figure size 720x720 with 25 Axes>"
      ]
     },
     "metadata": {},
     "output_type": "display_data"
    }
   ],
   "source": [
    "# Let's look at some of the images\n",
    "plt.figure(figsize=(10,10))\n",
    "for i in range(25):\n",
    "    plt.subplot(5,5,i+1)\n",
    "    plt.xticks([])\n",
    "    plt.yticks([])\n",
    "    plt.grid(False)\n",
    "    plt.imshow(X_train[i])\n",
    "    plt.xlabel(str(y_train[i]))"
   ]
  },
  {
   "cell_type": "code",
   "execution_count": 10,
   "metadata": {},
   "outputs": [],
   "source": [
    "X_train = X_train.reshape(X_train.shape[0], 784)\n",
    "X_test = X_test.reshape(X_test.shape[0], 784)"
   ]
  },
  {
   "cell_type": "code",
   "execution_count": 11,
   "metadata": {},
   "outputs": [],
   "source": [
    "X_train = X_train.T\n",
    "X_test = X_test.T\n",
    "y_train = y_train.T\n",
    "y_test = y_test.T"
   ]
  },
  {
   "cell_type": "code",
   "execution_count": 17,
   "metadata": {},
   "outputs": [],
   "source": [
    "m_mnist = model()\n",
    "m_mnist.add_layers([X_train.shape[0], 64, 64, 1])\n",
    "\n",
    "m_mnist.train(\n",
    "    X_train, y_train, iterations = 60, \n",
    "    alpha = 0.003, decay = True, decay_iter = 5, \n",
    "    decay_rate = 0.96, stop_decay_counter = 100,\n",
    "    verbose = False, lam = 4\n",
    ")"
   ]
  },
  {
   "cell_type": "code",
   "execution_count": 18,
   "metadata": {},
   "outputs": [
    {
     "data": {
      "image/png": "[encoded data removed]",
      "text/plain": [
       "<Figure size 432x288 with 1 Axes>"
      ]
     },
     "metadata": {
      "needs_background": "light"
     },
     "output_type": "display_data"
    }
   ],
   "source": [
    "m_mnist.plot_cost()"
   ]
  },
  {
   "cell_type": "code",
   "execution_count": 19,
   "metadata": {},
   "outputs": [
    {
     "data": {
      "image/png": "[encoded data removed]",
      "text/plain": [
       "<Figure size 432x288 with 1 Axes>"
      ]
     },
     "metadata": {
      "needs_background": "light"
     },
     "output_type": "display_data"
    }
   ],
   "source": [
    "m_mnist.plot_acc()"
   ]
  },
  {
   "cell_type": "code",
   "execution_count": 20,
   "metadata": {},
   "outputs": [
    {
     "name": "stdout",
     "output_type": "stream",
     "text": [
      "0.9881563363600474\n"
     ]
    }
   ],
   "source": [
    "print(m_mnist.evaluate(X_test, y_test))"
   ]
  },
  {
   "cell_type": "code",
   "execution_count": 21,
   "metadata": {},
   "outputs": [
    {
     "data": {
      "image/png": "[encoded data removed]",
      "text/plain": [
       "<Figure size 720x720 with 25 Axes>"
      ]
     },
     "metadata": {},
     "output_type": "display_data"
    }
   ],
   "source": [
    "# Let's look at predictions\n",
    "preds = m_mnist.predict(X_test)\n",
    "\n",
    "plt.figure(figsize=(10,10))\n",
    "for i in range(25):\n",
    "    plt.subplot(5,5,i+1)\n",
    "    plt.xticks([])\n",
    "    plt.yticks([])\n",
    "    plt.grid(False)\n",
    "    plt.imshow(X_test_original[i])\n",
    "    plt.xlabel(int(preds[i]))"
   ]
  },
  {
   "cell_type": "code",
   "execution_count": null,
   "metadata": {},
   "outputs": [],
   "source": []
  }
 ],
 "metadata": {
  "kernelspec": {
   "display_name": "Python 3",
   "language": "python",
   "name": "python3"
  },
  "language_info": {
   "codemirror_mode": {
    "name": "ipython",
    "version": 3
   },
   "file_extension": ".py",
   "mimetype": "text/x-python",
   "name": "python",
   "nbconvert_exporter": "python",
   "pygments_lexer": "ipython3",
   "version": "3.6.7"
  }
 },
 "nbformat": 4,
 "nbformat_minor": 2
}
